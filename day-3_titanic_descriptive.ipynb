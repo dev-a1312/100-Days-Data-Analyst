# If you’re in Google Colab:
from google.colab import drive
drive.mount('/content/drive')  
# (Then navigate to the folder where train.csv resides.)

# Otherwise, just ensure train.csv is in the same folder as your notebook.



import pandas as pd

df = pd.read_csv('/content/drive/MyDrive/tested.csv')

df.head()




# 1. Mean
age_mean  = df['Age'].mean()
fare_mean = df['Fare'].mean()
sibsp_mean = df['SibSp'].mean()

# 2. Median
age_median  = df['Age'].median()
fare_median = df['Fare'].median()
sibsp_median = df['SibSp'].median()

# 3. Mode (could be multiple; take the first)
age_mode  = df['Age'].mode()[0]
fare_mode = df['Fare'].mode()[0]
sibsp_mode = df['SibSp'].mode()[0]

# 4. Variance
age_var  = df['Age'].var()
fare_var = df['Fare'].var()
sibsp_var = df['SibSp'].var()

# 5. Standard Deviation
age_std  = df['Age'].std()
fare_std = df['Fare'].std()
sibsp_std = df['SibSp'].std()

# Display all at once:
stats = pd.DataFrame({
    'Measure': ['Mean','Median','Mode','Variance','StdDev'],
    'Age':    [age_mean, age_median, age_mode, age_var, age_std],
    'Fare':   [fare_mean, fare_median, fare_mode, fare_var, fare_std],
    'SibSp':  [sibsp_mean, sibsp_median, sibsp_mode, sibsp_var, sibsp_std]
})
stats
